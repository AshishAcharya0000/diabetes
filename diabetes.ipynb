{
  "nbformat": 4,
  "nbformat_minor": 0,
  "metadata": {
    "colab": {
      "name": "diabetes.ipynb",
      "provenance": [],
      "collapsed_sections": []
    },
    "kernelspec": {
      "name": "python3",
      "display_name": "Python 3"
    },
    "language_info": {
      "name": "python"
    }
  },
  "cells": [
    {
      "cell_type": "markdown",
      "metadata": {
        "id": "vS-k9cZhocuZ"
      },
      "source": [
        "### **Preamble**\n",
        "Title: Diabetes\n",
        "\n",
        "Author: Ashish Acharya\n",
        "\n",
        "Email: ashishacharya0@gmail.com\n",
        "\n",
        "Last Update: 2021-10-15"
      ]
    },
    {
      "cell_type": "code",
      "metadata": {
        "colab": {
          "base_uri": "https://localhost:8080/",
          "height": 666
        },
        "id": "rOv23A-cnFVJ",
        "outputId": "ff104b64-4564-490f-8c02-88326c05e05e"
      },
      "source": [
        "# CS390Z - Introduction to Data Minining - Fall 2021\n",
        "# Instructor: Thyago Mota\n",
        "# Description: Homework 06: ID3 algorithm (for decision trees)\n",
        "\n",
        "import os, math, sys, random\n",
        "import pandas as pd\n",
        "from pandas.core.frame import DataFrame\n",
        "from sklearn import tree\n",
        "from sklearn.tree import DecisionTreeClassifier, export_text\n",
        "import matplotlib.pyplot as plt\n",
        "from sklearn.model_selection import train_test_split\n",
        "\n",
        "# definitions/parameters\n",
        "DATA_FOLDER = '/content/drive/MyDrive/Colab_Datasets/diabetes/'\n",
        "CSV_FILE_NAME   = 'diabetes.csv'\n",
        "\n",
        "if __name__ == \"__main__\":\n",
        "    df = pd.read_csv(os.path.join(DATA_FOLDER, CSV_FILE_NAME))\n",
        "    runs = [ x for x in range(10, 21) ]\n",
        "    accuracies = []\n",
        "\n",
        "\n",
        "    for run in runs: \n",
        "        print('run:', run)\n",
        "        \n",
        "        random.seed(0)\n",
        "    \n",
        "        rows_train = random.sample(range(len(df)), k=int(len(df) * .3))\n",
        "        \n",
        "        df_train = pd.DataFrame(columns=df.columns)\n",
        "        df_test = pd.DataFrame(columns=df.columns)\n",
        "        for i, row in df.iterrows():\n",
        "            if i in rows_train:\n",
        "                df_train = df_train.append(row)\n",
        "            else:\n",
        "                df_test = df_test.append(row)\n",
        "\n",
        "        df_test = df\n",
        "\n",
        "        X = df_train.iloc[:,0:-1].values\n",
        "        Y = df_train.iloc[:,-1].values\n",
        "        model = DecisionTreeClassifier().fit(X, Y)\n",
        "        #print(export_text(model, feature_names=list(df_train.columns[:-1])))\n",
        "\n",
        "        correct = 0\n",
        "        for _, row in df_test.iterrows():\n",
        "            value_predict = model.predict([row[:-1].values])\n",
        "            if value_predict == row['target']:\n",
        "                correct += 1\n",
        "        accuracy = correct/len(df_test.index)        \n",
        "        print('accuracy:', accuracy)\n",
        "        #storing in a list to print for next section\n",
        "        accuracies.append(accuracy)\n",
        "\n",
        "#END FOR ---------------------------------------------------------------------\n",
        "\n",
        "    plt.plot(accuracies)\n",
        "    plt.xlabel('Training Set %')\n",
        "    plt.ylabel('Model\\'s Accuracy')\n",
        "    plt.show()"
      ],
      "execution_count": 36,
      "outputs": [
        {
          "output_type": "stream",
          "name": "stdout",
          "text": [
            "run: 10\n",
            "accuracy: 0.75\n",
            "run: 11\n",
            "accuracy: 0.7395833333333334\n",
            "run: 12\n",
            "accuracy: 0.7434895833333334\n",
            "run: 13\n",
            "accuracy: 0.7421875\n",
            "run: 14\n",
            "accuracy: 0.7565104166666666\n",
            "run: 15\n",
            "accuracy: 0.7395833333333334\n",
            "run: 16\n",
            "accuracy: 0.74609375\n",
            "run: 17\n",
            "accuracy: 0.7447916666666666\n",
            "run: 18\n",
            "accuracy: 0.7395833333333334\n",
            "run: 19\n",
            "accuracy: 0.7395833333333334\n",
            "run: 20\n",
            "accuracy: 0.7421875\n"
          ]
        },
        {
          "output_type": "display_data",
          "data": {
            "image/png": "[encoded data removed]",
            "text/plain": [
              "<Figure size 432x288 with 1 Axes>"
            ]
          },
          "metadata": {
            "needs_background": "light"
          }
        }
      ]
    }
  ]
}